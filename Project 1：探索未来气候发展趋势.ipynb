{
 "cells": [
  {
   "cell_type": "markdown",
   "metadata": {},
   "source": [
    "# Project 1: 探索未来气候发展趋势\n",
    "Liya V34班 2019-03-31"
   ]
  },
  {
   "cell_type": "markdown",
   "metadata": {},
   "source": [
    "### 总结摘要\n",
    "在这个项目中，你将分析当地和全球温度数据，并将你居住地的温度趋势与全球总体温度趋势对比。\n",
    "\n",
    "### 说明\n",
    "你的目标是创建一个可视化文件，并准备一份文档，描述全球温度趋势与距离你所居住的最近的大城市的温度趋势之间的相似之处和不同之处。要做到这一点，你需要按照以下步骤：\n",
    "\n",
    "在数据库中 提取数据。在下一节中有一个连接到数据库的工作区。你需要输出世界的温度数据以及距离你所居住的最近的大城市的温度数据。你可以在city_list (城市列表)表中找到城市和国家的列表。要与数据库进行交互，你需要编写一个SQL查询。\n",
    "编写一个 SQL 查询来提取城市级别的数据，导出为CSV。\n",
    "编写一个 SQL 查询来提取全球数据，导出为CSV。\n",
    "用任何你感觉最方便的工具打开 CSV 。我们建议使用 Excel 或 Google 工作表，但欢迎你使用其他工具，如Python或R。\n",
    "创建一个折线图，将城市的温度与全球温度进行比较。确保绘制移动平均值，而不是年平均值，让线条平滑展现，使趋势更明显（上节课的最后一个页面是如何在电子表格中做到这一点）。\n",
    "对世界平均值与城市平均值之间的相似性和差异以及总体趋势 进行观察。这里有一些问题，让你开始想一想。\n",
    "与全球平均水平相比，你的城市平均温度是否更高还是更低？这种差异是否一直保持一致？\n",
    "“随着时间的推移，你的城市气温的变化与全球平均值的变化相比如何呢？\n",
    "整体趋势是什么样子？ 世界越来越热还是更冷？ 过去几百年的趋势是否一致？\n",
    "\n",
    "### 提交\n",
    "\n",
    "你的提交应该是一个PDF，其中包括：\n",
    "\n",
    "纲要以便展示让图表数据可视化的步骤，例如：\n",
    "你每一步使用什么工具？ （Python，SQL，Excel等）\n",
    "你是如何计算移动平均线的？\n",
    "在决定如何将趋势可视化时，你考虑的关键是什么？\n",
    "线图，包含当地和全球温度趋势\n",
    "至少四个观察发现是关于趋势的相似性和/或差异的"
   ]
  },
  {
   "cell_type": "markdown",
   "metadata": {},
   "source": [
    "## 1. 提取数据\n",
    "\n",
    "* 编写SQL查询离自己（厦门）最近的城市：\n",
    "```SQL\n",
    "SELECT city\n",
    "FROM city_list\n",
    "WHERE country='China'\n",
    "```\n",
    "在结果中找到离自己最近的城市是福州"
   ]
  },
  {
   "cell_type": "markdown",
   "metadata": {},
   "source": [
    "* 继续用SQL提取福州的城市数据，以及全球数据，并导出为CSV：\n",
    "```SQL\n",
    "SELECT *\n",
    "FROM city_data\n",
    "WHERE city='Fuzhou';\n",
    "```\n",
    "```SQL\n",
    "SELECT *\n",
    "FROM global_data;\n",
    "```"
   ]
  },
  {
   "cell_type": "markdown",
   "metadata": {},
   "source": [
    "## 2. 整理CSV并作折线图\n",
    "使用EXCEL，将两个CSV文件的数据整合到同一个表中（使用函数INDEX/MATCH)，并作折线图：\n",
    "![title](img/Sheet_avg.jpg)\n",
    "![title](img/Chart_avg.jpg)"
   ]
  },
  {
   "cell_type": "markdown",
   "metadata": {},
   "source": [
    ">## 取移动平均值\n",
    "观察折线图，发现波动比较大，不利于观察长期趋势，故尝试以10年为周期取移动平均值，得到较为平滑的折线：\n",
    "![title](img/Sheet_mv_avg.jpg)\n",
    "![title](img/Chart_mv_avg.jpg)"
   ]
  },
  {
   "cell_type": "markdown",
   "metadata": {},
   "source": [
    "## 3. 观察结果\n",
    "\n",
    "* 福州的城市平均温度比全球水平稳定地高出10度左右。\n",
    "* 福州的年间温度波动幅度比全球水平略高。\n",
    "* 从1850年有数据时开始，福州市气温变化与全球平均值的变化基本一致，都呈稳步升高趋势。\n",
    "* 1750-1840年间世界气温波动较近200年来更为剧烈。\n",
    "* 近200年来全球气温呈稳步上升趋势，总共上升约2.5度。"
   ]
  }
 ],
 "metadata": {
  "kernelspec": {
   "display_name": "Python 3",
   "language": "python",
   "name": "python3"
  },
  "language_info": {
   "codemirror_mode": {
    "name": "ipython",
    "version": 3
   },
   "file_extension": ".py",
   "mimetype": "text/x-python",
   "name": "python",
   "nbconvert_exporter": "python",
   "pygments_lexer": "ipython3",
   "version": "3.7.1"
  }
 },
 "nbformat": 4,
 "nbformat_minor": 2
}
