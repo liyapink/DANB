# Turtle

variable can be assigned by FOR loop too

## List
BASE 0
first element: randomlist[0]
last element: randomlist[-1]

### slicing of List
third_quarter  =months[6:9]
lower index is inclusive and the upper index is exclusive
index 0 can be omitted

### Mutability
List is mutable, while String is immutable


For each of the upcoming data structures, it is useful to understand how you index, are they mutable, and are they ordered. 

**\n** add new line
new_str = "\n".join(["fore", "aft", "starboard", "port"])
print(new_str)

