# Turtle

variable can be assigned by FOR loop too
