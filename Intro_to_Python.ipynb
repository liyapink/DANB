# Turtle

variable can be assigned by FOR loop too

## List
BASE 0
first element: randomlist[0]
last element: randomlist[-1]

### slicing of List
third_quarter  =months[6:9]
lower index is inclusive and the upper index is exclusive
index 0 can be omitted

### Mutability
List is mutable, while String is immutable


For each of the upcoming data structures, it is useful to understand how you index, are they mutable, and are they ordered. 

**\n** add new line
new_str = "\n".join(["fore", "aft", "starboard", "port"])
print(new_str)

Iterables are objects that can return one of their elements at a time, such as a list. Many of the built-in functions we’ve used so far, like 'enumerate,' return an iterator.
An iterator is an object that represents a stream of data. This is different from a list, which is also an iterable, but is not an iterator because it is not a stream of data.
